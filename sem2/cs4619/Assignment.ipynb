{
 "metadata": {
  "name": "",
  "signature": "sha256:48ed77066e89982328310946011bcefa7d6d0d861d71c2936817583796149ac6"
 },
 "nbformat": 3,
 "nbformat_minor": 0,
 "worksheets": [
  {
   "cells": [
    {
     "cell_type": "heading",
     "level": 1,
     "metadata": {},
     "source": [
      "Assignment"
     ]
    },
    {
     "cell_type": "markdown",
     "metadata": {},
     "source": [
      "Data Prep\n",
      "Justify Decisions\n",
      "Story\n"
     ]
    },
    {
     "cell_type": "code",
     "collapsed": false,
     "input": [
      "%load_ext autoreload\n",
      "%autoreload 2\n",
      "%matplotlib inline"
     ],
     "language": "python",
     "metadata": {},
     "outputs": [
      {
       "output_type": "stream",
       "stream": "stdout",
       "text": [
        "The autoreload extension is already loaded. To reload it, use:\n",
        "  %reload_ext autoreload\n"
       ]
      }
     ],
     "prompt_number": 18
    },
    {
     "cell_type": "code",
     "collapsed": false,
     "input": [
      "import pandas as pd\n",
      "import numpy as np\n",
      "import matplotlib.pyplot as plt\n",
      "\n",
      "from sklearn.linear_model import LogisticRegression\n",
      "from sklearn.cross_validation import StratifiedShuffleSplit\n",
      "from sklearn.cross_validation import cross_val_score\n",
      "from sklearn.cross_validation import StratifiedKFold\n",
      "from sklearn.neighbors import KNeighborsClassifier\n",
      "from sklearn.metrics import confusion_matrix\n",
      "from sklearn.cross_validation import train_test_split\n",
      "\n",
      "from sklearn.metrics import accuracy_score\n",
      "from sklearn.metrics import precision_score\n",
      "from sklearn.metrics import recall_score\n",
      "from sklearn.metrics import f1_score"
     ],
     "language": "python",
     "metadata": {},
     "outputs": [],
     "prompt_number": 19
    },
    {
     "cell_type": "heading",
     "level": 2,
     "metadata": {},
     "source": [
      "Getting to know the Dataset"
     ]
    },
    {
     "cell_type": "code",
     "collapsed": false,
     "input": [
      "df_name = 'dataset-alcohol.csv'\n",
      "df = pd.read_csv(df_name)\n",
      "df.describe()"
     ],
     "language": "python",
     "metadata": {},
     "outputs": [
      {
       "html": [
        "<div style=\"max-height:1000px;max-width:1500px;overflow:auto;\">\n",
        "<table border=\"1\" class=\"dataframe\">\n",
        "  <thead>\n",
        "    <tr style=\"text-align: right;\">\n",
        "      <th></th>\n",
        "      <th>age_yrs</th>\n",
        "      <th>height_cm</th>\n",
        "      <th>weight_kg</th>\n",
        "      <th>units</th>\n",
        "    </tr>\n",
        "  </thead>\n",
        "  <tbody>\n",
        "    <tr>\n",
        "      <th>count</th>\n",
        "      <td> 76.000000</td>\n",
        "      <td>  76.000000</td>\n",
        "      <td>  76.000000</td>\n",
        "      <td> 76.000000</td>\n",
        "    </tr>\n",
        "    <tr>\n",
        "      <th>mean</th>\n",
        "      <td> 22.657895</td>\n",
        "      <td> 176.644737</td>\n",
        "      <td>  71.486842</td>\n",
        "      <td>  8.632895</td>\n",
        "    </tr>\n",
        "    <tr>\n",
        "      <th>std</th>\n",
        "      <td>  5.627439</td>\n",
        "      <td>   8.453329</td>\n",
        "      <td>  11.474602</td>\n",
        "      <td>  5.775567</td>\n",
        "    </tr>\n",
        "    <tr>\n",
        "      <th>min</th>\n",
        "      <td> 18.000000</td>\n",
        "      <td> 157.000000</td>\n",
        "      <td>  47.000000</td>\n",
        "      <td>  0.000000</td>\n",
        "    </tr>\n",
        "    <tr>\n",
        "      <th>25%</th>\n",
        "      <td> 19.000000</td>\n",
        "      <td> 172.000000</td>\n",
        "      <td>  63.000000</td>\n",
        "      <td>  4.275000</td>\n",
        "    </tr>\n",
        "    <tr>\n",
        "      <th>50%</th>\n",
        "      <td> 21.000000</td>\n",
        "      <td> 177.000000</td>\n",
        "      <td>  72.000000</td>\n",
        "      <td>  8.400000</td>\n",
        "    </tr>\n",
        "    <tr>\n",
        "      <th>75%</th>\n",
        "      <td> 23.000000</td>\n",
        "      <td> 182.000000</td>\n",
        "      <td>  79.000000</td>\n",
        "      <td> 12.100000</td>\n",
        "    </tr>\n",
        "    <tr>\n",
        "      <th>max</th>\n",
        "      <td> 45.000000</td>\n",
        "      <td> 200.000000</td>\n",
        "      <td> 101.000000</td>\n",
        "      <td> 31.200000</td>\n",
        "    </tr>\n",
        "  </tbody>\n",
        "</table>\n",
        "<p>8 rows \u00d7 4 columns</p>\n",
        "</div>"
       ],
       "metadata": {},
       "output_type": "pyout",
       "prompt_number": 20,
       "text": [
        "         age_yrs   height_cm   weight_kg      units\n",
        "count  76.000000   76.000000   76.000000  76.000000\n",
        "mean   22.657895  176.644737   71.486842   8.632895\n",
        "std     5.627439    8.453329   11.474602   5.775567\n",
        "min    18.000000  157.000000   47.000000   0.000000\n",
        "25%    19.000000  172.000000   63.000000   4.275000\n",
        "50%    21.000000  177.000000   72.000000   8.400000\n",
        "75%    23.000000  182.000000   79.000000  12.100000\n",
        "max    45.000000  200.000000  101.000000  31.200000\n",
        "\n",
        "[8 rows x 4 columns]"
       ]
      }
     ],
     "prompt_number": 20
    },
    {
     "cell_type": "code",
     "collapsed": false,
     "input": [
      "(m,n) = df.shape\n",
      "m,n"
     ],
     "language": "python",
     "metadata": {},
     "outputs": [
      {
       "metadata": {},
       "output_type": "pyout",
       "prompt_number": 21,
       "text": [
        "(76, 9)"
       ]
      }
     ],
     "prompt_number": 21
    },
    {
     "cell_type": "code",
     "collapsed": false,
     "input": [
      "df.columns"
     ],
     "language": "python",
     "metadata": {},
     "outputs": [
      {
       "metadata": {},
       "output_type": "pyout",
       "prompt_number": 22,
       "text": [
        "Index([u'age_yrs', u'height_cm', u'weight_kg', u'duration_mins', u'elapsed_mins', u'sex', u'last_meal', u'units', u'over_limit'], dtype='object')"
       ]
      }
     ],
     "prompt_number": 22
    },
    {
     "cell_type": "code",
     "collapsed": false,
     "input": [
      "df.dtypes"
     ],
     "language": "python",
     "metadata": {},
     "outputs": [
      {
       "metadata": {},
       "output_type": "pyout",
       "prompt_number": 23,
       "text": [
        "age_yrs            int64\n",
        "height_cm          int64\n",
        "weight_kg          int64\n",
        "duration_mins     object\n",
        "elapsed_mins      object\n",
        "sex               object\n",
        "last_meal         object\n",
        "units            float64\n",
        "over_limit        object\n",
        "dtype: object"
       ]
      }
     ],
     "prompt_number": 23
    },
    {
     "cell_type": "heading",
     "level": 2,
     "metadata": {},
     "source": [
      "Pre-Processing"
     ]
    },
    {
     "cell_type": "code",
     "collapsed": false,
     "input": [
      "#Check for duplicates\n",
      "df.duplicated().any()"
     ],
     "language": "python",
     "metadata": {},
     "outputs": []
    },
    {
     "cell_type": "code",
     "collapsed": false,
     "input": [
      "#Replace missing values\n",
      "df.replace('?', np.nan, inplace=True)"
     ],
     "language": "python",
     "metadata": {},
     "outputs": []
    },
    {
     "cell_type": "code",
     "collapsed": false,
     "input": [
      "#Values could be inapplicable\n",
      "df.dropna(inplace=True)\n",
      "df.reset_index(drop=True, inplace=True)\n",
      "#Delete Values"
     ],
     "language": "python",
     "metadata": {},
     "outputs": []
    },
    {
     "cell_type": "code",
     "collapsed": false,
     "input": [
      "#One Hot Encode -> Do not one hot encode dependant variable! \n",
      "features = ['', '', '']\n",
      "\n",
      "for feature in features:\n",
      "    one_hot = pd.get_dummies(df[feature], feature,'_')\n",
      "    df.drop(feature, axis=1, inplace=True)\n",
      "    df = pd.concat([df, one_hot], axis=1)\n",
      "    \n",
      "df.dtypes"
     ],
     "language": "python",
     "metadata": {},
     "outputs": []
    },
    {
     "cell_type": "code",
     "collapsed": false,
     "input": [
      "#Replace nominal values with neumeric\n",
      "df.replace({'sex' : {'Male' : 0, 'Female': 1}}, inplace=True)\n",
      "df.replace({'over_limit' : {'No' : 0, 'Yes': 1}}, inplace=True) "
     ],
     "language": "python",
     "metadata": {},
     "outputs": [],
     "prompt_number": 27
    },
    {
     "cell_type": "heading",
     "level": 3,
     "metadata": {},
     "source": [
      "Graphing"
     ]
    },
    {
     "cell_type": "markdown",
     "metadata": {},
     "source": [
      "We will now try to identify any anomaliesby plotting value of the dataset. "
     ]
    },
    {
     "cell_type": "code",
     "collapsed": false,
     "input": [
      "#Scatter Plot Function for Linear Regression\n",
      "def drawScatter(y_feature, x_feature):\n",
      "    x = df[x_feature].values\n",
      "    y = df[y_feature].values\n",
      "    \n",
      "    fig = plt.figure()\n",
      "    plt.title(feature.upper())\n",
      "    plt.xlabel(feature)\n",
      "    plt.xlim(0, x.max())\n",
      "    plt.ylabel(y_feature)\n",
      "    plt.ylim(0, x.max())\n",
      "    xvals = np.linspace(0, x.max(), 2)\n",
      "    plt.scatter(x, y, color = 'green')\n",
      "    plt.show()\n",
      "    \n",
      "drawScatter('over_limit','units')\n",
      "\n",
      "#Histogram Function for Classicication\n",
      "def drawHistogram(y_feature, x_feature):\n",
      "    x = df[x_feature].values\n",
      "    y = df[y_feature].values\n",
      "    \n",
      "    fig = plt.figure(figsize=(10,4))\n",
      "    plt.subplot(1, 2, 1)\n",
      "    plt.title(\"NOT \" + y_feature.upper())\n",
      "    plt.xlabel(x_feature.upper())\n",
      "    plt.xlim(0, 100)\n",
      "    plt.ylim(0, 150)\n",
      "    plt.hist(x[y == 0], bins = range(0, 110, 10), color = 'red')\n",
      "    \n",
      "    plt.subplot(1, 2, 2)\n",
      "    plt.title(y_feature.upper())\n",
      "    plt.xlabel(x_feature.upper())\n",
      "    plt.xlim(0, 100)\n",
      "    plt.ylim(0, 150)\n",
      "    plt.hist(x[y == 1], bins = range(0, 110, 10), color = 'green')\n",
      "    plt.show()\n",
      "    \n",
      "drawHistogram('over_limit','units')\n",
      "\n",
      "#Box Plot Function for Classification\n",
      "def drawBoxPlot(y_feature, x_feature, title, xlabel, ylabel):\n",
      "    x = df[x_feature].values\n",
      "    y = df[y_feature].values\n",
      "    \n",
      "    fig = plt.figure()\n",
      "    ax = plt.axes()\n",
      "    plt.title(title)\n",
      "    plt.xlabel(xlabel)\n",
      "    ax.set_xticklabels(['0', '1'])\n",
      "    plt.ylabel(ylabel)\n",
      "    plt.ylim(0, 100)\n",
      "    plt.boxplot([x[y == 0], x[y == 1]])\n",
      "    plt.show()\n",
      "    \n",
      "drawBoxPlot('over_limit','units', \n",
      "            'Number of Units vs Over Limit Status', \n",
      "            '0 for under limit, 1 for over limit', \n",
      "            'Number of Examples')\n",
      "\n"
     ],
     "language": "python",
     "metadata": {},
     "outputs": [
      {
       "metadata": {},
       "output_type": "display_data",
       "png": "[encoded data removed]",
       "text": [
        "<matplotlib.figure.Figure at 0x7f66feaae050>"
       ]
      },
      {
       "metadata": {},
       "output_type": "display_data",
       "png": "[encoded data removed]",
       "text": [
        "<matplotlib.figure.Figure at 0x7f66fee97590>"
       ]
      },
      {
       "metadata": {},
       "output_type": "display_data",
       "png": "[encoded data removed]",
       "text": [
        "<matplotlib.figure.Figure at 0x7f66fee0b990>"
       ]
      }
     ],
     "prompt_number": 37
    },
    {
     "cell_type": "code",
     "collapsed": false,
     "input": [],
     "language": "python",
     "metadata": {},
     "outputs": []
    }
   ],
   "metadata": {}
  }
 ]
}