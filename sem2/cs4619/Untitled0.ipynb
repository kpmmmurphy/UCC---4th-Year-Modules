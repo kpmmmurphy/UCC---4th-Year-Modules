{
 "metadata": {
  "name": "",
  "signature": "sha256:e56d024dad85e4aad3857b37a4fe27091fe73da92bc8299fe273f7d83cbed186"
 },
 "nbformat": 3,
 "nbformat_minor": 0,
 "worksheets": [
  {
   "cells": [
    {
     "cell_type": "code",
     "collapsed": false,
     "input": [
      "%load_ext autoreload\n",
      "%autoreload 2\n",
      "%matplotlib inline"
     ],
     "language": "python",
     "metadata": {},
     "outputs": [],
     "prompt_number": 1
    },
    {
     "cell_type": "code",
     "collapsed": false,
     "input": [
      "import pandas as pd\n",
      "import numpy as np\n",
      "import matplotlib.pyplot as plt\n",
      "\n",
      "from sklearn.linear_model import LogisticRegression\n",
      "from sklearn.cross_validation import StratifiedShuffleSplit\n",
      "from sklearn.cross_validation import cross_val_score\n",
      "from sklearn.cross_validation import StratifiedKFold\n",
      "from sklearn.neighbors import KNeighborsClassifier\n",
      "from sklearn.metrics import confusion_matrix\n",
      "from sklearn.cross_validation import train_test_split\n",
      "from sklearn.metrics import accuracy_score\n",
      "from sklearn.metrics import precision_score\n",
      "from sklearn.metrics import recall_score\n",
      "from sklearn.metrics import f1_score\n",
      "from sklearn.pipeline import Pipeline\n",
      "from sklearn.preprocessing import Imputer\n",
      "from sklearn.preprocessing import StandardScaler\n",
      "from sklearn.linear_model import LinearRegression\n",
      "from sklearn.linear_model import LassoCV\n",
      "from sklearn.linear_model import RidgeCV\n",
      "from sklearn.neighbors import KNeighborsRegressor\n",
      "from sklearn.grid_search import GridSearchCV\n",
      "from sklearn.cross_validation import KFold\n",
      "from sklearn.cross_validation import LeaveOneOut\n",
      "from sklearn.cross_validation import ShuffleSplit\n",
      "from sklearn.metrics import mean_squared_error\n",
      "from sklearn.feature_selection import RFECV\n",
      "from sklearn.metrics import confusion_matrix"
     ],
     "language": "python",
     "metadata": {},
     "outputs": [],
     "prompt_number": 2
    },
    {
     "cell_type": "code",
     "collapsed": false,
     "input": [
      "df_name = 'dataset-concrete.csv'\n",
      "df = pd.read_csv(df_name)\n",
      "(m,n) = df.shape\n",
      "m,n"
     ],
     "language": "python",
     "metadata": {},
     "outputs": [
      {
       "metadata": {},
       "output_type": "pyout",
       "prompt_number": 3,
       "text": [
        "(1030, 9)"
       ]
      }
     ],
     "prompt_number": 3
    },
    {
     "cell_type": "code",
     "collapsed": false,
     "input": [
      "df[df['Strength'] == 'UNK']"
     ],
     "language": "python",
     "metadata": {},
     "outputs": [
      {
       "html": [
        "<div style=\"max-height:1000px;max-width:1500px;overflow:auto;\">\n",
        "<table border=\"1\" class=\"dataframe\">\n",
        "  <thead>\n",
        "    <tr style=\"text-align: right;\">\n",
        "      <th></th>\n",
        "      <th>Cement</th>\n",
        "      <th>Slag</th>\n",
        "      <th>FlyAsh</th>\n",
        "      <th>Water</th>\n",
        "      <th>Superplasticizer</th>\n",
        "      <th>CoarseAggregate</th>\n",
        "      <th>FineAggregate</th>\n",
        "      <th>Age</th>\n",
        "      <th>Strength</th>\n",
        "    </tr>\n",
        "  </thead>\n",
        "  <tbody>\n",
        "    <tr>\n",
        "      <th>8 </th>\n",
        "      <td> 266.0</td>\n",
        "      <td> 114.0</td>\n",
        "      <td> 0</td>\n",
        "      <td>   228</td>\n",
        "      <td>  0.0</td>\n",
        "      <td>  932.0</td>\n",
        "      <td> 670.0</td>\n",
        "      <td>  28</td>\n",
        "      <td> UNK</td>\n",
        "    </tr>\n",
        "    <tr>\n",
        "      <th>14</th>\n",
        "      <td> 304.0</td>\n",
        "      <td>  76.0</td>\n",
        "      <td> 0</td>\n",
        "      <td>   228</td>\n",
        "      <td>  0.0</td>\n",
        "      <td>  932.0</td>\n",
        "      <td> 670.0</td>\n",
        "      <td>  28</td>\n",
        "      <td> UNK</td>\n",
        "    </tr>\n",
        "    <tr>\n",
        "      <th>23</th>\n",
        "      <td> 139.6</td>\n",
        "      <td> 209.4</td>\n",
        "      <td> 0</td>\n",
        "      <td>   192</td>\n",
        "      <td>  0.0</td>\n",
        "      <td> 1047.0</td>\n",
        "      <td> 806.9</td>\n",
        "      <td> 180</td>\n",
        "      <td> UNK</td>\n",
        "    </tr>\n",
        "    <tr>\n",
        "      <th>53</th>\n",
        "      <td> 304.0</td>\n",
        "      <td>  76.0</td>\n",
        "      <td> 0</td>\n",
        "      <td>   228</td>\n",
        "      <td>  0.0</td>\n",
        "      <td>  932.0</td>\n",
        "      <td> 670.0</td>\n",
        "      <td>  90</td>\n",
        "      <td> UNK</td>\n",
        "    </tr>\n",
        "    <tr>\n",
        "      <th>97</th>\n",
        "      <td> 375.0</td>\n",
        "      <td>  93.8</td>\n",
        "      <td> 0</td>\n",
        "      <td> 126.6</td>\n",
        "      <td> 23.4</td>\n",
        "      <td>  852.1</td>\n",
        "      <td> 992.6</td>\n",
        "      <td>   7</td>\n",
        "      <td> UNK</td>\n",
        "    </tr>\n",
        "  </tbody>\n",
        "</table>\n",
        "<p>5 rows \u00d7 9 columns</p>\n",
        "</div>"
       ],
       "metadata": {},
       "output_type": "pyout",
       "prompt_number": 9,
       "text": [
        "    Cement   Slag  FlyAsh  Water  Superplasticizer  CoarseAggregate  \\\n",
        "8    266.0  114.0       0    228               0.0            932.0   \n",
        "14   304.0   76.0       0    228               0.0            932.0   \n",
        "23   139.6  209.4       0    192               0.0           1047.0   \n",
        "53   304.0   76.0       0    228               0.0            932.0   \n",
        "97   375.0   93.8       0  126.6              23.4            852.1   \n",
        "\n",
        "    FineAggregate  Age Strength  \n",
        "8           670.0   28      UNK  \n",
        "14          670.0   28      UNK  \n",
        "23          806.9  180      UNK  \n",
        "53          670.0   90      UNK  \n",
        "97          992.6    7      UNK  \n",
        "\n",
        "[5 rows x 9 columns]"
       ]
      }
     ],
     "prompt_number": 9
    },
    {
     "cell_type": "code",
     "collapsed": false,
     "input": [],
     "language": "python",
     "metadata": {},
     "outputs": []
    }
   ],
   "metadata": {}
  }
 ]
}