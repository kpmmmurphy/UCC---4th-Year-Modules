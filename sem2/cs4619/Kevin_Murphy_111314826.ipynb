{
 "metadata": {
  "name": "",
  "signature": "sha256:6888e5c045cb93c40a6bab3c7294ca343721620c253832d782d4b4cbb9ff2224"
 },
 "nbformat": 3,
 "nbformat_minor": 0,
 "worksheets": [
  {
   "cells": [
    {
     "cell_type": "heading",
     "level": 1,
     "metadata": {},
     "source": [
      "Test."
     ]
    },
    {
     "cell_type": "code",
     "collapsed": false,
     "input": [],
     "language": "python",
     "metadata": {},
     "outputs": []
    }
   ],
   "metadata": {}
  }
 ]
}